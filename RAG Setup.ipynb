{
  "cells": [
    {
      "cell_type": "markdown",
      "metadata": {
        "id": "EcoEDCsJpBG6"
      },
      "source": [
        "The notebook makes a question answering chain using a website as the context data."
      ]
    },
    {
      "cell_type": "markdown",
      "metadata": {
        "id": "i3rmZlgg0RsI"
      },
      "source": [
        "### Setup"
      ]
    },
    {
      "cell_type": "markdown",
      "metadata": {
        "id": "khCtKh6eDzh2"
      },
      "source": [
        "Install dependencies"
      ]
    },
    {
      "cell_type": "code",
      "execution_count": null,
      "metadata": {
        "colab": {
          "base_uri": "https://localhost:8080/"
        },
        "id": "mxFhFfKzRgpi",
        "outputId": "a4450680-b34f-4caf-d5a5-ecc4b9dc61dd"
      },
      "outputs": [
        {
          "name": "stdout",
          "output_type": "stream",
          "text": [
            "\u001b[33mWARNING: Skipping pinecone as it is not installed.\u001b[0m\u001b[33m\n",
            "\u001b[0m"
          ]
        }
      ],
      "source": [
        "!pip install langchain\n",
        "!pip install pinecone-client\n",
        "!pip install openai\n",
        "!pip install tiktoken\n",
        "!pip install nest_asyncio"
      ]
    },
    {
      "cell_type": "markdown",
      "metadata": {
        "id": "oU2eHKKCD4lq"
      },
      "source": [
        "Set up OpenAI API key"
      ]
    },
    {
      "cell_type": "code",
      "execution_count": null,
      "metadata": {
        "id": "hOiNazy2SSPL"
      },
      "outputs": [],
      "source": [
        "import os\n",
        "os.environ[\"OPENAI_API_KEY\"] = \"INSERT_KEY\""
      ]
    },
    {
      "cell_type": "markdown",
      "metadata": {
        "id": "6xUZg07MMvoU"
      },
      "source": [
        "Set up Pinecone API keys"
      ]
    },
    {
      "cell_type": "code",
      "execution_count": null,
      "metadata": {
        "id": "v6vSLQnuUFAY"
      },
      "outputs": [],
      "source": [
        "from pinecone import Pinecone\n",
        "import os\n",
        "\n",
        "# initialize connection to pinecone (get API key at app.pc.io)\n",
        "api_key=\"INSERT_KEY\",  # find at app.pinecone.io\n",
        "environment=\"gcp-starter\"  # next to api key in console\n",
        "\n",
        "os.environ[\"PINECONE_API_KEY\"] = \"INSERT_KEY\"\n",
        "\n",
        "# configure client\n",
        "pc = Pinecone(api_key=api_key)"
      ]
    },
    {
      "cell_type": "markdown",
      "metadata": {
        "id": "vCnFhGb40ZxR"
      },
      "source": [
        "# Index"
      ]
    },
    {
      "cell_type": "markdown",
      "metadata": {
        "id": "kNrHppQSEQU2"
      },
      "source": [
        "\n",
        "**Load data from Web**\n",
        "\n",
        "Extends from the WebBaseLoader, this will load a sitemap from a given URL, and then scrape and load all the pages in the sitemap, returning each page as a document.\n",
        "\n",
        "The scraping is done concurrently, using WebBaseLoader. There are reasonable limits to concurrent requests, defaulting to 2 per second.\n",
        "\n",
        "Link to the [documentation](https://python.langchain.com/docs/integrations/document_loaders/sitemap/)"
      ]
    },
    {
      "cell_type": "code",
      "execution_count": null,
      "metadata": {
        "id": "kcUaA9YWRS2D"
      },
      "outputs": [],
      "source": [
        "# @title Link XML\n",
        "# fixes a bug with asyncio and jupyter\n",
        "\"\"\"\n",
        "import nest_asyncio\n",
        "nest_asyncio.apply()\n",
        "\n",
        "from langchain.document_loaders.sitemap import SitemapLoader\n",
        "\n",
        "\n",
        "loader = SitemapLoader(\n",
        "    \"https://www.canada.ca/en/veterans-affairs-canada.sitemap.xml\",\n",
        "    filter_urls=[\"https://www.canada.ca/en/veterans-affairs-canada/news/\"]\n",
        ")\n",
        "\n",
        "#concurent requests\n",
        "loader.requests_per_second = 50\n",
        "\n",
        "\n",
        "docs = loader.load()"
      ]
    },
    {
      "cell_type": "code",
      "execution_count": null,
      "metadata": {
        "colab": {
          "base_uri": "https://localhost:8080/"
        },
        "id": "yaByAt1aKEzc",
        "outputId": "d731dfe6-bfd9-4378-b25a-b5cc1ae976ad"
      },
      "outputs": [
        {
          "name": "stderr",
          "output_type": "stream",
          "text": [
            "Fetching pages: 100%|##########| 10343/10343 [04:16<00:00, 40.26it/s]\n"
          ]
        }
      ],
      "source": [
        "# @title Document XML\n",
        "# fixes a bug with asyncio and jupyter\n",
        "import nest_asyncio\n",
        "nest_asyncio.apply()\n",
        "\n",
        "from langchain.document_loaders.sitemap import SitemapLoader\n",
        "\n",
        "loader = SitemapLoader(\n",
        "    \"https://raw.githubusercontent.com/QuantumAbstraction/glowing-octo-telegram/main/Sitemap.xml\",\n",
        "    restrict_to_same_domain=False,\n",
        "    #filter_urls=[\"https://www.https://www.veterans.gc.ca/en/\"]\n",
        ")\n",
        "\n",
        "#concurent requests\n",
        "loader.requests_per_second = 50\n",
        "\n",
        "\n",
        "docs = loader.load()"
      ]
    },
    {
      "cell_type": "markdown",
      "metadata": {
        "id": "N0Q03G2HG-6-"
      },
      "source": [
        "**Split the text from docs into smaller chunks**\n",
        "\n",
        "There are many ways to split the text. We are using the text splitter that is recommended for generic texts. For more ways to slit the text check the [documentation](https://python.langchain.com/docs/how_to/recursive_text_splitter/)"
      ]
    },
    {
      "cell_type": "code",
      "execution_count": null,
      "metadata": {
        "id": "DV9zorYiHAzz"
      },
      "outputs": [],
      "source": [
        "from langchain.text_splitter import RecursiveCharacterTextSplitter\n",
        "\n",
        "text_splitter = RecursiveCharacterTextSplitter(\n",
        "    chunk_size = 1200,\n",
        "    chunk_overlap  = 200,\n",
        "    length_function = len,\n",
        ")\n",
        "\n",
        "docs_chunks = text_splitter.split_documents(docs)"
      ]
    },
    {
      "cell_type": "markdown",
      "metadata": {
        "id": "BtIKffZiFdpT"
      },
      "source": [
        "Create embeddings"
      ]
    },
    {
      "cell_type": "code",
      "execution_count": null,
      "metadata": {
        "id": "KK-LlnZJFPMf"
      },
      "outputs": [],
      "source": [
        "from langchain.embeddings.openai import OpenAIEmbeddings\n",
        "\n",
        "embeddings = OpenAIEmbeddings()"
      ]
    },
    {
      "cell_type": "markdown",
      "metadata": {
        "id": "5sY05f0sFl_k"
      },
      "source": [
        "**Creating a vectorstore**\n",
        "\n",
        "A vectorstore stores Documents and associated embeddings, and provides fast ways to look up relevant Documents by embeddings.\n",
        "\n",
        "There are many ways to create a vectorstore. We are going to use Pinecone. For other types of vectorstores visit the [documentation](https://python.langchain.com/docs/how_to/vectorstores/)\n",
        "\n",
        "First you need to go to [Pinecone](https://www.pinecone.io/) and create an index there. Then type the index name in \"index_name\""
      ]
    },
    {
      "cell_type": "code",
      "execution_count": null,
      "metadata": {
        "id": "cng7EmkbLyBb"
      },
      "outputs": [],
      "source": [
        "from langchain.vectorstores import Pinecone\n",
        "from langchain.embeddings import OpenAIEmbeddings\n",
        "from tenacity import retry_if_exception_type, wait_exponential\n",
        "\n",
        "index_name = \"INSERT_NAME\"\n",
        "\n",
        "# #create a new index\n",
        "docsearch = Pinecone.from_documents(docs_chunks, embeddings, index_name=index_name)\n",
        "\n",
        "# if you already have an index, you can load it like this\n",
        "#docsearch = Pinecone.from_existing_index(index_name, embeddings)\n"
      ]
    },
    {
      "cell_type": "markdown",
      "metadata": {
        "id": "DKpbxw5JRe2e"
      },
      "source": [
        "Vectorstore is ready. Let's try to query our docsearch with similarity search"
      ]
    },
    {
      "cell_type": "code",
      "execution_count": null,
      "metadata": {
        "colab": {
          "base_uri": "https://localhost:8080/"
        },
        "id": "xqqD72sGRbBA",
        "outputId": "e97eaf44-18c8-4fd2-ec23-e96e533cc93c"
      },
      "outputs": [
        {
          "name": "stdout",
          "output_type": "stream",
          "text": [
            "page_content=\"Q2. Do I need to qualify for benefits or services through Veterans Affairs Canada to apply as a Veteran on VAC JobConnex?\\n\\nYou don't have to qualify for benefits or services to apply for a job through VAC JobConnex. If you served in the Canadian Armed Forces or worked for the Royal Canadian Mounted Police, you can apply as a Veteran on VAC JobConnex.\\n\\n\\nQ3. Who qualifies as a Veteran for the purposes of VAC JobConnex?\\n\\nIf you served in the Canadian Armed Forces or worked for the Royal Canadian Mounted Police, you can apply as a Veteran on VAC JobConnex.\\n\\n\\nQ4. What can I expect when I apply to a job opportunity through GC Jobs?\\n\\nVisit Applying for Government of Canada Jobs: What to expect for more info.\\n\\n\\nQ5. What can I expect when I apply to VAC JobConnex?\\n\\n\\n\\nYou will receive a confirmation email.\\nYour application will be added to a pool of candidates that hiring managers can draw from when they need to fill job vacancies.\\nIf your skills and experience match what the hiring managers are looking for, they may contact you to schedule an interview or offer you the job.\\n\\n\\n\\nQ6. What support is available for Veterans seeking a career in the public service?\" metadata={'changefreq': 'weekly', 'lastmod': '2023-07-24T14:36:58+00:00', 'loc': 'http://www.veterans.gc.ca/eng/about-vac/jobs-at-vac/faq', 'priority': '0.800000011921', 'source': 'http://www.veterans.gc.ca/eng/about-vac/jobs-at-vac/faq'}\n"
          ]
        }
      ],
      "source": [
        "query = \"What is JobConnex?\"\n",
        "docs = docsearch.similarity_search(query)\n",
        "print(docs[0])"
      ]
    },
    {
      "cell_type": "markdown",
      "metadata": {
        "id": "Q_4iKKJ16RCr"
      },
      "source": [
        "# Making a question answering chain\n",
        "The question answering chain will enable us to generate the answer based on the relevant context chunks. See the [documentation](https://python.langchain.com/en/latest/modules/chains/index_examples/qa_with_sources.html) for more explanation.\n",
        "\n",
        "Additionally, we can return the source documents used to answer the question by specifying an optional parameter when constructing the chain. For more information visit the [documentation](https://python.langchain.com/en/latest/modules/chains/index_examples/vector_db_qa.html#return-source-documents)"
      ]
    },
    {
      "cell_type": "code",
      "execution_count": null,
      "metadata": {
        "colab": {
          "base_uri": "https://localhost:8080/",
          "height": 53
        },
        "id": "9FcufORSOtJz",
        "outputId": "1b5846ec-8baa-4a1c-ff2a-a65b34fbd1c0"
      },
      "outputs": [
        {
          "data": {
            "application/vnd.google.colaboratory.intrinsic+json": {
              "type": "string"
            },
            "text/plain": [
              "' JobConnex is a recruitment portal specifically for Veterans Affairs Canada, where you can find current job openings and apply for temporary jobs. It is part of the Job Placement Program, which aims to help Veterans find employment in the public service.'"
            ]
          },
          "execution_count": 123,
          "metadata": {},
          "output_type": "execute_result"
        }
      ],
      "source": [
        "from langchain.chains import RetrievalQA\n",
        "from langchain.llms import OpenAI\n",
        "llm=OpenAI()\n",
        "\n",
        "qa_with_sources = RetrievalQA.from_chain_type(llm=llm, chain_type=\"stuff\", retriever=docsearch.as_retriever(), return_source_documents=True)\n",
        "\n",
        "query = \"What is JobConnex?\"\n",
        "result = qa_with_sources({\"query\": query})\n",
        "result[\"result\"]"
      ]
    },
    {
      "cell_type": "markdown",
      "metadata": {
        "id": "VjOzlTef8e1U"
      },
      "source": [
        "Output source documents that were found for the query"
      ]
    },
    {
      "cell_type": "code",
      "execution_count": null,
      "metadata": {
        "colab": {
          "base_uri": "https://localhost:8080/"
        },
        "id": "maOKWZ7B8TPQ",
        "outputId": "406907ce-40c0-4780-fd71-746909dab069"
      },
      "outputs": [
        {
          "data": {
            "text/plain": [
              "[Document(page_content=\"Q2. Do I need to qualify for benefits or services through Veterans Affairs Canada to apply as a Veteran on VAC JobConnex?\\n\\nYou don't have to qualify for benefits or services to apply for a job through VAC JobConnex. If you served in the Canadian Armed Forces or worked for the Royal Canadian Mounted Police, you can apply as a Veteran on VAC JobConnex.\\n\\n\\nQ3. Who qualifies as a Veteran for the purposes of VAC JobConnex?\\n\\nIf you served in the Canadian Armed Forces or worked for the Royal Canadian Mounted Police, you can apply as a Veteran on VAC JobConnex.\\n\\n\\nQ4. What can I expect when I apply to a job opportunity through GC Jobs?\\n\\nVisit Applying for Government of Canada Jobs: What to expect for more info.\\n\\n\\nQ5. What can I expect when I apply to VAC JobConnex?\\n\\n\\n\\nYou will receive a confirmation email.\\nYour application will be added to a pool of candidates that hiring managers can draw from when they need to fill job vacancies.\\nIf your skills and experience match what the hiring managers are looking for, they may contact you to schedule an interview or offer you the job.\\n\\n\\n\\nQ6. What support is available for Veterans seeking a career in the public service?\", metadata={'changefreq': 'weekly', 'lastmod': '2023-07-24T14:36:58+00:00', 'loc': 'http://www.veterans.gc.ca/eng/about-vac/jobs-at-vac/faq', 'priority': '0.800000011921', 'source': 'http://www.veterans.gc.ca/eng/about-vac/jobs-at-vac/faq'}),\n",
              " Document(page_content='In terms of accuracy, one participant described the name of the program as slightly misleading since it does not actually place you in a job. Another said she had expected more one-on-one sessions with counsellors. She explained that there were only two career counsellors in the program, which severely limited the number of one-on-one sessions. In terms of timeliness, nearly half the participants felt it would have been better to receive information earlier than they did, though none felt that they were adversely affected by not having gotten information earlier. In explaining why receiving information earlier would have been helpful, they observed that having some idea of the content of the program would have allowed them to prepare questions in advance or think of issues they might want to address. \\nInformation About JPP Obtained Through Contractor’s Website & SCAN Seminar', metadata={'changefreq': 'yearly', 'lastmod': '2014-10-23T11:59:35+00:00', 'loc': 'http://www.veterans.gc.ca/eng/about-vac/publications-reports/reports/departmental-audit-evaluation/2010-08-nvc-evaluation-phase-2/annexg/g5', 'priority': '0.3', 'source': 'http://www.veterans.gc.ca/eng/about-vac/publications-reports/reports/departmental-audit-evaluation/2010-08-nvc-evaluation-phase-2/annexg/g5'}),\n",
              " Document(page_content=\"Current job openings\\n\\nJoin our mission to serve those who have served. Explore open jobs at Veterans Affairs Canada.\\n\\xa0View our current job openings\\nClicking the button above will redirect you to GCJobs.\\n\\n\\nTemporary jobs (VAC JobConnex)\\n\\nDiscover rewarding temporary jobs at Veterans Affairs Canada – apply today!\\n\\xa0Recruitment portal (VAC JobConnex)\\nClicking the button above will redirect you to VidCruiter, a third-party service provider of Veterans Affairs Canada.\\n\\n\\n\\nWhy work with us?\\nYou can make a real difference in the lives of Veterans and their families. At Veterans Affairs Canada, we offer:\\n\\nA supportive and inclusive workplace\\nProfessional development opportunities\\nWork-life balance\\nAnd more!\\n\\nDiversity and inclusion\\nJoin Veterans Affairs Canada and help us achieve our mission! We need people like you to help us create a team that reflects Canada's diverse population. Our top priority is to make sure everyone feels included and supported. We're committed to breaking down barriers and designing our workplace to embrace everyone's unique talents and perspectives. Come be a part of a team that celebrates diversity and inclusivity!\", metadata={'changefreq': 'weekly', 'lastmod': '2023-07-24T15:14:43+00:00', 'loc': 'http://www.veterans.gc.ca/eng/about-vac/jobs-at-vac', 'priority': '0.800000011921', 'source': 'http://www.veterans.gc.ca/eng/about-vac/jobs-at-vac'}),\n",
              " Document(page_content='No One Referred to Other Employment-Related Programs \\nAt the time they were getting information about the Job Placement Program, none of the participants were informed about or referred to employment-related programs offered by other departments of the Government of Canada or provincial governments. Moreover, only a few said that they have used job-related programs or services other than those provided by VAC since their release. These included Emploi Québec, and the posting of CVs on the website www.hirecanadianmilitary.com.\\nApplication Process for Job Placement Program\\nThis section reports on the application process for the Job Placement Program.\\nApplication Process for JPP Described as Easy & Timely', metadata={'changefreq': 'yearly', 'lastmod': '2014-10-23T11:59:35+00:00', 'loc': 'http://www.veterans.gc.ca/eng/about-vac/publications-reports/reports/departmental-audit-evaluation/2010-08-nvc-evaluation-phase-2/annexg/g5', 'priority': '0.3', 'source': 'http://www.veterans.gc.ca/eng/about-vac/publications-reports/reports/departmental-audit-evaluation/2010-08-nvc-evaluation-phase-2/annexg/g5'})]"
            ]
          },
          "execution_count": 122,
          "metadata": {},
          "output_type": "execute_result"
        }
      ],
      "source": [
        "result[\"source_documents\"]"
      ]
    }
  ],
  "metadata": {
    "colab": {
      "provenance": []
    },
    "kernelspec": {
      "display_name": "Python 3",
      "name": "python3"
    },
    "language_info": {
      "name": "python"
    }
  },
  "nbformat": 4,
  "nbformat_minor": 0
}
